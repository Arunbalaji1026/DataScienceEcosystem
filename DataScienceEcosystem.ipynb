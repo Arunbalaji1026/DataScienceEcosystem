{
 "cells": [
  {
   "cell_type": "markdown",
   "id": "59ac9232-c527-4f5b-82ea-59a7d02507af",
   "metadata": {},
   "source": [
    "# Data Science Tools and Ecosystem"
   ]
  },
  {
   "cell_type": "markdown",
   "id": "27838a6f-c8ed-4614-b7ed-97aa39353f48",
   "metadata": {},
   "source": [
    "In this notebook, Data Science Tools and Ecosystem are summarized."
   ]
  },
  {
   "cell_type": "markdown",
   "id": "3d6d854a-2e72-4f2c-bd5e-ca2d9118900b",
   "metadata": {},
   "source": [
    "**Objectives:**\n",
    "\n",
    "* Python\n",
    "* Ruby\n",
    "* C++\n",
    "* Java\n",
    "* Go\n",
    "* Scala"
   ]
  },
  {
   "cell_type": "markdown",
   "id": "9857a6a2-8343-47a7-b402-e5ee5d965ae5",
   "metadata": {},
   "source": [
    "Some of the most popular languages that Data Scientists use are:\n",
    "\n",
    "1. Python\n",
    "2. Ruby\n",
    "3. Scala\n",
    "4. Javascript\n",
    "5. Java"
   ]
  },
  {
   "cell_type": "markdown",
   "id": "8e03defa-565b-428c-a9b1-fcb2f988f8ac",
   "metadata": {},
   "source": [
    "Some of the commonly used libraries used by Data Scientists include:\n",
    "\n",
    "1. Pandas\n",
    "2. NumPy\n",
    "3. Scikit learn\n",
    "4. Matplotlib\n",
    "5. Seaborn"
   ]
  },
  {
   "cell_type": "markdown",
   "id": "e1c3f1cd-75ac-4505-9527-b1f8001fbec2",
   "metadata": {},
   "source": [
    "| Data Science |\n",
    "| ------------ |\n",
    "| Jupyter Notebook |\n",
    "| RStudio |\n",
    "| VS Code |\n",
    "| Spyder |"
   ]
  },
  {
   "cell_type": "markdown",
   "id": "e69ff0fe-33a3-458d-aa0c-88ee7e5893ab",
   "metadata": {},
   "source": [
    "### Below are a few examples of evaluating arithmetic expressions in python"
   ]
  },
  {
   "cell_type": "code",
   "execution_count": 4,
   "id": "c8ab18db-c931-4fb4-9486-b1e2050af53c",
   "metadata": {},
   "outputs": [
    {
     "data": {
      "text/plain": [
       "17"
      ]
     },
     "execution_count": 4,
     "metadata": {},
     "output_type": "execute_result"
    }
   ],
   "source": [
    "(3*4)+5\n",
    "# This is a simple arithmetic expression to multiply then add integers"
   ]
  },
  {
   "cell_type": "code",
   "execution_count": 10,
   "id": "a0bede62-d270-46ea-a207-06542cd4e3fd",
   "metadata": {},
   "outputs": [
    {
     "data": {
      "text/plain": [
       "3.3333333333333335"
      ]
     },
     "execution_count": 10,
     "metadata": {},
     "output_type": "execute_result"
    }
   ],
   "source": [
    "200/60\n",
    "# This will convert 200 minutes to hours by dividing by 60"
   ]
  },
  {
   "cell_type": "markdown",
   "id": "9bf204f4-6e7d-4412-ab4a-b5fa669831bd",
   "metadata": {},
   "source": [
    "## Author\n",
    "Arun balaji"
   ]
  },
  {
   "cell_type": "code",
   "execution_count": null,
   "id": "fb2ff20d-3164-478e-97b6-31ae5734c393",
   "metadata": {},
   "outputs": [],
   "source": []
  }
 ],
 "metadata": {
  "kernelspec": {
   "display_name": "Python 3 (ipykernel)",
   "language": "python",
   "name": "python3"
  },
  "language_info": {
   "codemirror_mode": {
    "name": "ipython",
    "version": 3
   },
   "file_extension": ".py",
   "mimetype": "text/x-python",
   "name": "python",
   "nbconvert_exporter": "python",
   "pygments_lexer": "ipython3",
   "version": "3.13.2"
  }
 },
 "nbformat": 4,
 "nbformat_minor": 5
}
